{
 "cells": [
  {
   "cell_type": "markdown",
   "id": "macro-quilt",
   "metadata": {},
   "source": [
    "# Probabilistic Expected Utility"
   ]
  },
  {
   "cell_type": "code",
   "execution_count": 23,
   "id": "casual-failing",
   "metadata": {},
   "outputs": [],
   "source": [
    "import os\n",
    "os.environ['MKL_NUM_THREADS'] = '1'\n",
    "os.environ['OPENBLAS_NUM_THREADS'] = '1'\n",
    "import logging\n",
    "logger = logging.getLogger()\n",
    "logger.setLevel(logging.WARNING)\n",
    "import pickle\n",
    "import pystan\n",
    "import scipy\n",
    "import matplotlib.pyplot as plt\n",
    "import seaborn as sns\n",
    "import pandas as pd\n",
    "import numpy as np\n",
    "import multiprocessing\n",
    "from scipy.special import expit\n",
    "import arviz as az\n",
    "# multiprocessing.set_start_method(\"fork\")\n",
    "sns.set()  # Nice plot aesthetic"
   ]
  },
  {
   "cell_type": "code",
   "execution_count": 41,
   "id": "criminal-rates",
   "metadata": {},
   "outputs": [],
   "source": [
    "# Set seed\n",
    "np.random.seed(123)"
   ]
  },
  {
   "cell_type": "markdown",
   "id": "technical-musical",
   "metadata": {},
   "source": [
    "The utility of a normalized outcome $x \\in [0, 1]$ is defined as:\n",
    "\\begin{equation}\n",
    "u(x) = x^{1 - \\alpha}\n",
    "\\end{equation}\n",
    "\n",
    "The expected utility of a lottery $L = \\{(p_1, x_1), \\dots, (p_n, x_n)\\}$ is defined as:\n",
    "\\begin{equation}\n",
    "EU(L) = \\sum_{i=1}^{n} p_i u(x_i)\n",
    "\\end{equation}\n",
    "\n",
    "The probability to choose the lottery $L_k \\in \\mathcal{L} = \\{L_1, \\dots, L_{N}\\}$ is defined as: \n",
    "\\begin{equation}\n",
    "P(L_k) = \\frac {e^{EU(L_k) / \\tau}}{\\sum _{i=1}^{N} e^{EU(L_i) / \\tau } }\n",
    "\\end{equation}"
   ]
  },
  {
   "cell_type": "markdown",
   "id": "national-investigator",
   "metadata": {},
   "source": [
    "### Generate data"
   ]
  },
  {
   "cell_type": "markdown",
   "id": "shared-alfred",
   "metadata": {},
   "source": [
    "Note: We consider here a special case where $L = \\{(p, x)\\}$ (one lottery has one possible positive output)."
   ]
  },
  {
   "cell_type": "code",
   "execution_count": 42,
   "id": "treated-reggae",
   "metadata": {},
   "outputs": [],
   "source": [
    "# True parameters\n",
    "alpha_true = 0.3\n",
    "tau_true = 0.1\n",
    "\n",
    "# Number of trials\n",
    "n_trial = 1000\n",
    "\n",
    "# Number of lottery per trial\n",
    "n_option = 2\n",
    "\n",
    "p = np.random.random(size=(n_option, n_trial))\n",
    "x = np.random.random(size=(n_option, n_trial))\n",
    "\n",
    "u = x**(1-alpha_true)\n",
    "eu = p * u\n",
    "\n",
    "p_choice = np.exp(eu/tau_true)\n",
    "p_choice /= p_choice.sum(axis=0)\n",
    "\n",
    "y = np.zeros(n_trial, dtype=int)\n",
    "for i in range(n_trial):\n",
    "    y[i] = np.random.choice(np.arange(n_option), p=p_choice[:, i])"
   ]
  },
  {
   "cell_type": "markdown",
   "id": "intellectual-multiple",
   "metadata": {},
   "source": [
    "Take a look at the data"
   ]
  },
  {
   "cell_type": "code",
   "execution_count": 43,
   "id": "stable-publisher",
   "metadata": {},
   "outputs": [
    {
     "data": {
      "text/html": [
       "<div>\n",
       "<style scoped>\n",
       "    .dataframe tbody tr th:only-of-type {\n",
       "        vertical-align: middle;\n",
       "    }\n",
       "\n",
       "    .dataframe tbody tr th {\n",
       "        vertical-align: top;\n",
       "    }\n",
       "\n",
       "    .dataframe thead th {\n",
       "        text-align: right;\n",
       "    }\n",
       "</style>\n",
       "<table border=\"1\" class=\"dataframe\">\n",
       "  <thead>\n",
       "    <tr style=\"text-align: right;\">\n",
       "      <th></th>\n",
       "      <th>x0</th>\n",
       "      <th>x1</th>\n",
       "      <th>p0</th>\n",
       "      <th>p1</th>\n",
       "      <th>y</th>\n",
       "    </tr>\n",
       "  </thead>\n",
       "  <tbody>\n",
       "    <tr>\n",
       "      <th>0</th>\n",
       "      <td>0.423016</td>\n",
       "      <td>0.969426</td>\n",
       "      <td>0.696469</td>\n",
       "      <td>0.081894</td>\n",
       "      <td>0</td>\n",
       "    </tr>\n",
       "    <tr>\n",
       "      <th>1</th>\n",
       "      <td>0.393018</td>\n",
       "      <td>0.721784</td>\n",
       "      <td>0.286139</td>\n",
       "      <td>0.495040</td>\n",
       "      <td>1</td>\n",
       "    </tr>\n",
       "    <tr>\n",
       "      <th>2</th>\n",
       "      <td>0.036701</td>\n",
       "      <td>0.181892</td>\n",
       "      <td>0.226851</td>\n",
       "      <td>0.288890</td>\n",
       "      <td>1</td>\n",
       "    </tr>\n",
       "    <tr>\n",
       "      <th>3</th>\n",
       "      <td>0.884020</td>\n",
       "      <td>0.882028</td>\n",
       "      <td>0.551315</td>\n",
       "      <td>0.639992</td>\n",
       "      <td>0</td>\n",
       "    </tr>\n",
       "    <tr>\n",
       "      <th>4</th>\n",
       "      <td>0.676480</td>\n",
       "      <td>0.477022</td>\n",
       "      <td>0.719469</td>\n",
       "      <td>0.499936</td>\n",
       "      <td>0</td>\n",
       "    </tr>\n",
       "    <tr>\n",
       "      <th>...</th>\n",
       "      <td>...</td>\n",
       "      <td>...</td>\n",
       "      <td>...</td>\n",
       "      <td>...</td>\n",
       "      <td>...</td>\n",
       "    </tr>\n",
       "    <tr>\n",
       "      <th>995</th>\n",
       "      <td>0.610117</td>\n",
       "      <td>0.551774</td>\n",
       "      <td>0.264397</td>\n",
       "      <td>0.193012</td>\n",
       "      <td>0</td>\n",
       "    </tr>\n",
       "    <tr>\n",
       "      <th>996</th>\n",
       "      <td>0.621986</td>\n",
       "      <td>0.544699</td>\n",
       "      <td>0.690915</td>\n",
       "      <td>0.731650</td>\n",
       "      <td>0</td>\n",
       "    </tr>\n",
       "    <tr>\n",
       "      <th>997</th>\n",
       "      <td>0.208917</td>\n",
       "      <td>0.737517</td>\n",
       "      <td>0.347146</td>\n",
       "      <td>0.274711</td>\n",
       "      <td>1</td>\n",
       "    </tr>\n",
       "    <tr>\n",
       "      <th>998</th>\n",
       "      <td>0.567472</td>\n",
       "      <td>0.703100</td>\n",
       "      <td>0.004168</td>\n",
       "      <td>0.721818</td>\n",
       "      <td>1</td>\n",
       "    </tr>\n",
       "    <tr>\n",
       "      <th>999</th>\n",
       "      <td>0.445216</td>\n",
       "      <td>0.622879</td>\n",
       "      <td>0.294895</td>\n",
       "      <td>0.097863</td>\n",
       "      <td>0</td>\n",
       "    </tr>\n",
       "  </tbody>\n",
       "</table>\n",
       "<p>1000 rows × 5 columns</p>\n",
       "</div>"
      ],
      "text/plain": [
       "           x0        x1        p0        p1  y\n",
       "0    0.423016  0.969426  0.696469  0.081894  0\n",
       "1    0.393018  0.721784  0.286139  0.495040  1\n",
       "2    0.036701  0.181892  0.226851  0.288890  1\n",
       "3    0.884020  0.882028  0.551315  0.639992  0\n",
       "4    0.676480  0.477022  0.719469  0.499936  0\n",
       "..        ...       ...       ...       ... ..\n",
       "995  0.610117  0.551774  0.264397  0.193012  0\n",
       "996  0.621986  0.544699  0.690915  0.731650  0\n",
       "997  0.208917  0.737517  0.347146  0.274711  1\n",
       "998  0.567472  0.703100  0.004168  0.721818  1\n",
       "999  0.445216  0.622879  0.294895  0.097863  0\n",
       "\n",
       "[1000 rows x 5 columns]"
      ]
     },
     "execution_count": 43,
     "metadata": {},
     "output_type": "execute_result"
    }
   ],
   "source": [
    "df_data = pd.merge(\n",
    "    pd.DataFrame(x.T, columns=[f\"x{i}\" for i in range(n_option)]), \n",
    "    pd.DataFrame(p.T, columns=[f\"p{i}\" for i in range(n_option)]), left_index=True, right_index=True)\n",
    "df_data['y'] = y\n",
    "\n",
    "# n = 100\n",
    "# df_data = df_data.sample(n=n, replace=False)\n",
    "# df_data.reset_index(inplace=True, drop=True)\n",
    "\n",
    "df_data"
   ]
  },
  {
   "cell_type": "markdown",
   "id": "competitive-fluid",
   "metadata": {},
   "source": [
    "## Inference using Pymc3"
   ]
  },
  {
   "cell_type": "code",
   "execution_count": 44,
   "id": "activated-convenience",
   "metadata": {},
   "outputs": [],
   "source": [
    "with pm.Model() as model:\n",
    "    \n",
    "    # BoundedNormal = pm.Bound(pm.Normal, upper=1)\n",
    "    # α = BoundedNormal('α', mu=0, sigma=0.1)\n",
    "        \n",
    "    # BoundedNormal = pm.Bound(pm.Normal, lower=0)\n",
    "    # τ = BoundedNormal('τ', mu=0.1, sigma=0.01)\n",
    "    \n",
    "    α = pm.Uniform('α', lower=-1, upper=0.5)\n",
    "    τ = pm.Uniform('τ', lower=0.01)\n",
    "\n",
    "    eu0_hat = df_data.p0.values * df_data.x0.values**(1-α)\n",
    "    eu1_hat = df_data.p1.values * df_data.x1.values**(1-α)\n",
    "    \n",
    "    diff_eu_hat = eu1_hat - eu0_hat\n",
    "    \n",
    "    est_p_choice1 = pm.math.invlogit((1/τ)*diff_eu_hat)\n",
    "    choose_1 = pm.Bernoulli('choose_1', p=est_p_choice1, observed=df_data.y.values)"
   ]
  },
  {
   "cell_type": "code",
   "execution_count": 45,
   "id": "healthy-movie",
   "metadata": {
    "scrolled": true
   },
   "outputs": [
    {
     "name": "stderr",
     "output_type": "stream",
     "text": [
      "Auto-assigning NUTS sampler...\n",
      "INFO:pymc3:Auto-assigning NUTS sampler...\n",
      "Initializing NUTS using jitter+adapt_diag...\n",
      "INFO:pymc3:Initializing NUTS using jitter+adapt_diag...\n",
      "Multiprocess sampling (4 chains in 2 jobs)\n",
      "INFO:pymc3:Multiprocess sampling (4 chains in 2 jobs)\n",
      "NUTS: [τ, α]\n",
      "INFO:pymc3:NUTS: [τ, α]\n"
     ]
    },
    {
     "data": {
      "text/html": [
       "\n",
       "    <div>\n",
       "        <style>\n",
       "            /* Turns off some styling */\n",
       "            progress {\n",
       "                /* gets rid of default border in Firefox and Opera. */\n",
       "                border: none;\n",
       "                /* Needs to be in here for Safari polyfill so background images work as expected. */\n",
       "                background-size: auto;\n",
       "            }\n",
       "            .progress-bar-interrupted, .progress-bar-interrupted::-webkit-progress-bar {\n",
       "                background: #F44336;\n",
       "            }\n",
       "        </style>\n",
       "      <progress value='6000' class='' max='6000' style='width:300px; height:20px; vertical-align: middle;'></progress>\n",
       "      100.00% [6000/6000 00:08<00:00 Sampling 4 chains, 0 divergences]\n",
       "    </div>\n",
       "    "
      ],
      "text/plain": [
       "<IPython.core.display.HTML object>"
      ]
     },
     "metadata": {},
     "output_type": "display_data"
    },
    {
     "name": "stderr",
     "output_type": "stream",
     "text": [
      "Sampling 4 chains for 500 tune and 1_000 draw iterations (2_000 + 4_000 draws total) took 20 seconds.\n",
      "INFO:pymc3:Sampling 4 chains for 500 tune and 1_000 draw iterations (2_000 + 4_000 draws total) took 20 seconds.\n"
     ]
    }
   ],
   "source": [
    "with model:\n",
    "    # trace = pm.find_MAP()\n",
    "    trace = pm.sample(1000, tune=500, chains=4, return_inferencedata=True, \n",
    "                      target_accept=0.90)"
   ]
  },
  {
   "cell_type": "code",
   "execution_count": 46,
   "id": "southeast-might",
   "metadata": {},
   "outputs": [
    {
     "data": {
      "text/plain": [
       "array([<AxesSubplot:title={'center':'α'}>,\n",
       "       <AxesSubplot:title={'center':'τ'}>], dtype=object)"
      ]
     },
     "execution_count": 46,
     "metadata": {},
     "output_type": "execute_result"
    },
    {
     "data": {
      "image/png": "[encoded data removed]",
      "text/plain": [
       "<Figure size 993.6x331.2 with 2 Axes>"
      ]
     },
     "metadata": {},
     "output_type": "display_data"
    }
   ],
   "source": [
    "az.plot_posterior(trace, var_names=['α', 'τ'])"
   ]
  }
 ],
 "metadata": {
  "kernelspec": {
   "display_name": "Python 3",
   "language": "python",
   "name": "python3"
  },
  "language_info": {
   "codemirror_mode": {
    "name": "ipython",
    "version": 3
   },
   "file_extension": ".py",
   "mimetype": "text/x-python",
   "name": "python",
   "nbconvert_exporter": "python",
   "pygments_lexer": "ipython3",
   "version": "3.9.1"
  }
 },
 "nbformat": 4,
 "nbformat_minor": 5
}
