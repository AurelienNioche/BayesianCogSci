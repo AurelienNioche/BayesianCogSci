{
 "cells": [
  {
   "cell_type": "markdown",
   "metadata": {},
   "source": [
    "# Cumulative Prospect Theory"
   ]
  },
  {
   "cell_type": "markdown",
   "metadata": {},
   "source": [
    "Part of this is reproduction from: https://towardsdatascience.com/an-introduction-to-bayesian-inference-in-pystan-c27078e58d53"
   ]
  },
  {
   "cell_type": "markdown",
   "metadata": {},
   "source": [
    "Related documentation:\n",
    "* https://mc-stan.org/docs/2_23/stan-users-guide/example-decision-analysis.html\n",
    "* https://mc-stan.org/docs/2_25/stan-users-guide/examples.html"
   ]
  },
  {
   "cell_type": "code",
   "execution_count": 1,
   "metadata": {},
   "outputs": [],
   "source": [
    "import pystan\n",
    "import matplotlib.pyplot as plt\n",
    "import seaborn as sns\n",
    "import pandas as pd\n",
    "import numpy as np\n",
    "import multiprocessing\n",
    "from scipy.special import expit"
   ]
  },
  {
   "cell_type": "code",
   "execution_count": 2,
   "metadata": {},
   "outputs": [],
   "source": [
    "multiprocessing.set_start_method(\"fork\")\n",
    "sns.set()  # Nice plot aesthetic\n",
    "np.random.seed(101)"
   ]
  },
  {
   "cell_type": "markdown",
   "metadata": {},
   "source": [
    "## Generate data"
   ]
  },
  {
   "cell_type": "code",
   "execution_count": 3,
   "metadata": {},
   "outputs": [],
   "source": [
    "N = 100\n",
    "p = np.random.random(size=N)\n",
    "x0 = np.random.random(size=N)\n",
    "x1 = np.random.random(size=N)\n",
    "\n",
    "risk = 0.3\n",
    "inv_tmp = 0.1\n",
    "\n",
    "v0 = p * x0**(1-risk)\n",
    "v1 = p * x1**(1-risk)\n",
    "delta = v1 - v0\n",
    "p_choice1 = expit(delta)\n",
    "\n",
    "y = np.zeros(N, dtype=int)\n",
    "y[:] = p_choice1 > np.random.random(size=N)\n",
    "\n",
    "\n",
    "data = {'N': N, 'x0': x1, 'x1': x1, 'p':p, 'y': list(y)}"
   ]
  },
  {
   "cell_type": "code",
   "execution_count": 4,
   "metadata": {},
   "outputs": [],
   "source": [
    "model = \"\"\"\n",
    "functions {\n",
    "    real eu(real x0, real x1, real p, int y, real alpha) {\n",
    "    vector[2] v;\n",
    "    vector[2] p_choice;\n",
    "    int c;\n",
    "    v[1] = p * pow(x0, 1-alpha);\n",
    "    v[2] = (1- p) * pow(x1, 1-alpha);\n",
    "    p_choice = softmax(v);\n",
    "    c = y+1;\n",
    "    return p_choice[c];\n",
    "  }\n",
    "}\n",
    "data {\n",
    "    int<lower=0> N;\n",
    "    vector[N] x0;\n",
    "    vector[N] x1;\n",
    "    vector[N] p;\n",
    "    int<lower=0,upper=1> y[N];\n",
    "}\n",
    "parameters {\n",
    "    real<lower=-1, upper=1>alpha;\n",
    "}\n",
    "model {\n",
    "    for (i in 1:N)\n",
    "        target += log(eu(x0[i], x1[i], p[i], y[i], alpha));\n",
    "}\n",
    "\"\"\""
   ]
  },
  {
   "cell_type": "code",
   "execution_count": null,
   "metadata": {},
   "outputs": [
    {
     "name": "stderr",
     "output_type": "stream",
     "text": [
      "INFO:pystan:COMPILING THE C++ CODE FOR MODEL anon_model_f4328c65a1528dd4038c1e21f566b0c3 NOW.\n"
     ]
    }
   ],
   "source": [
    "# Compile the model\n",
    "sm = pystan.StanModel(model_code=model)"
   ]
  },
  {
   "cell_type": "code",
   "execution_count": null,
   "metadata": {},
   "outputs": [],
   "source": [
    "# Train the model and generate samples\n",
    "fit = sm.sampling(data=data, iter=1000, chains=4, warmup=500, thin=1, seed=101)\n",
    "print(fit)"
   ]
  },
  {
   "cell_type": "code",
   "execution_count": null,
   "metadata": {},
   "outputs": [],
   "source": []
  }
 ],
 "metadata": {
  "kernelspec": {
   "display_name": "Python 3",
   "language": "python",
   "name": "python3"
  },
  "language_info": {
   "codemirror_mode": {
    "name": "ipython",
    "version": 3
   },
   "file_extension": ".py",
   "mimetype": "text/x-python",
   "name": "python",
   "nbconvert_exporter": "python",
   "pygments_lexer": "ipython3",
   "version": "3.8.6"
  }
 },
 "nbformat": 4,
 "nbformat_minor": 4
}
